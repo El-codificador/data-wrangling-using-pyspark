{
 "cells": [
  {
   "cell_type": "markdown",
   "id": "6eb529d0",
   "metadata": {},
   "source": [
    "<h1><center>DATA WRANGLING USING PYSPARK</center></h1>\n",
    "\n",
    "![Image](https://dimensionless.in/wp-content/uploads/2019/05/pic_data_wrangling.jpg)"
   ]
  },
  {
   "cell_type": "markdown",
   "id": "73cadeae",
   "metadata": {},
   "source": [
    "# Required Modules"
   ]
  },
  {
   "cell_type": "markdown",
   "id": "b3d9a1d0",
   "metadata": {},
   "source": [
    "## Install Packages\n",
    "<p>Restart the kernel after installation</p>"
   ]
  },
  {
   "cell_type": "code",
   "execution_count": 1,
   "id": "87ce7251",
   "metadata": {},
   "outputs": [],
   "source": [
    "# pip install pyspark"
   ]
  },
  {
   "cell_type": "markdown",
   "id": "b3b32239",
   "metadata": {},
   "source": [
    "## Import Packages"
   ]
  },
  {
   "cell_type": "code",
   "execution_count": 2,
   "id": "c1af7927",
   "metadata": {},
   "outputs": [],
   "source": [
    "import tarfile as to_extract\n",
    "import pyspark.sql.functions as F\n",
    "\n",
    "import pandas as pd\n",
    "import numpy as np\n",
    "\n",
    "import matplotlib.pyplot as plt\n",
    "\n",
    "from pyspark.sql import SparkSession\n",
    "from pyspark.sql.functions import split, col, dayofweek, month, when, dense_rank, to_date, length, hour, to_timestamp, unix_timestamp, expr, avg, min, max\n",
    "from pyspark.sql.types import IntegerType, DateType, TimestampType\n",
    "from pyspark.sql.window import Window\n",
    "\n",
    "import warnings\n",
    "warnings.filterwarnings('ignore')"
   ]
  },
  {
   "cell_type": "markdown",
   "id": "3a78f250",
   "metadata": {},
   "source": [
    "# Initiate A Pyspark Session"
   ]
  },
  {
   "cell_type": "code",
   "execution_count": 3,
   "id": "024b359c",
   "metadata": {},
   "outputs": [],
   "source": [
    "spark = SparkSession.builder \\\n",
    "    .appName(\"data-wrangling\") \\\n",
    "    .config(\"spark.driver.memory\", \"4g\") \\\n",
    "    .config(\"spark.executor.memory\", \"4g\") \\\n",
    "    .config(\"spark.driver.memoryOverhead\", \"1g\") \\\n",
    "    .config(\"spark.executor.memoryOverhead\", \"1g\") \\\n",
    "    .getOrCreate()"
   ]
  },
  {
   "cell_type": "markdown",
   "id": "3d4f36da",
   "metadata": {},
   "source": [
    "__Comment:__\n",
    "\n",
    "_The memory configuration was necessary as the size of the data is large_"
   ]
  },
  {
   "cell_type": "markdown",
   "id": "c897b099",
   "metadata": {},
   "source": [
    "# Data Directory\n",
    "- _Change as per the location of your data on your physical machine_\n",
    "- The original data can be accessed from [here](https://zenodo.org/record/3227177/files/BGL.tar.gz)."
   ]
  },
  {
   "cell_type": "code",
   "execution_count": 4,
   "id": "406ebe3a",
   "metadata": {},
   "outputs": [],
   "source": [
    "data_dir = r'C:\\Users\\User\\Desktop\\Data'\n",
    "zipped_log_data = r'C:\\Users\\User\\Desktop\\Data\\BGL.tar.gz'\n",
    "log_file = r'C:\\Users\\User\\Desktop\\Data\\BGL.log'"
   ]
  },
  {
   "cell_type": "markdown",
   "id": "bcf86950",
   "metadata": {},
   "source": [
    "# Data Extraction\n",
    "___Extracting the zipped data (\"BGL.tar.gz\") with the \"tarfile\" module to access the \"BGL.log\" file___"
   ]
  },
  {
   "cell_type": "code",
   "execution_count": 5,
   "id": "9493ec93",
   "metadata": {},
   "outputs": [],
   "source": [
    "with to_extract.open(zipped_log_data, \"r:gz\") as zipped:\n",
    "    zipped.extractall(data_dir)"
   ]
  },
  {
   "cell_type": "markdown",
   "id": "c82b474d",
   "metadata": {},
   "source": [
    "# Data Definition"
   ]
  },
  {
   "cell_type": "markdown",
   "id": "ab6e13ed",
   "metadata": {},
   "source": [
    "## Defining The Raw Data"
   ]
  },
  {
   "cell_type": "code",
   "execution_count": 6,
   "id": "495e24df",
   "metadata": {},
   "outputs": [],
   "source": [
    "dat = spark.read.text(log_file)"
   ]
  },
  {
   "cell_type": "markdown",
   "id": "0e9a1240",
   "metadata": {},
   "source": [
    "## Displaying The Raw Data"
   ]
  },
  {
   "cell_type": "code",
   "execution_count": 7,
   "id": "eae9f96f",
   "metadata": {},
   "outputs": [
    {
     "name": "stdout",
     "output_type": "stream",
     "text": [
      "+---------------------------------------------------------------------------------------------------------------------------------------------------+\n",
      "|value                                                                                                                                              |\n",
      "+---------------------------------------------------------------------------------------------------------------------------------------------------+\n",
      "|- 1117838570 2005.06.03 R02-M1-N0-C:J12-U11 2005-06-03-15.42.50.363779 R02-M1-N0-C:J12-U11 RAS KERNEL INFO instruction cache parity error corrected|\n",
      "|- 1117838570 2005.06.03 R02-M1-N0-C:J12-U11 2005-06-03-15.42.50.527847 R02-M1-N0-C:J12-U11 RAS KERNEL INFO instruction cache parity error corrected|\n",
      "+---------------------------------------------------------------------------------------------------------------------------------------------------+\n",
      "only showing top 2 rows\n",
      "\n"
     ]
    }
   ],
   "source": [
    "dat.show(n = 2, truncate=False)"
   ]
  },
  {
   "cell_type": "markdown",
   "id": "b51432f9",
   "metadata": {},
   "source": [
    "## Displaying The Schema of The Raw Data"
   ]
  },
  {
   "cell_type": "code",
   "execution_count": 8,
   "id": "fd0e4ad0",
   "metadata": {},
   "outputs": [
    {
     "name": "stdout",
     "output_type": "stream",
     "text": [
      "root\n",
      " |-- value: string (nullable = true)\n",
      "\n"
     ]
    }
   ],
   "source": [
    "dat.printSchema()"
   ]
  },
  {
   "cell_type": "markdown",
   "id": "ab6bcc2b",
   "metadata": {},
   "source": [
    "##  Raw Data Transformation\n",
    "- ___Form reorientation___\n",
    "- ___Type casting___"
   ]
  },
  {
   "cell_type": "code",
   "execution_count": 9,
   "id": "82a335d7",
   "metadata": {},
   "outputs": [],
   "source": [
    "dat = dat.withColumn(\"Alert message flag\", split(col(\"value\"), \" \")[0])\n",
    "dat = dat.withColumn(\"Timestamp\", split(col(\"value\"), \" \")[1])\n",
    "dat = dat.withColumn(\"Timestamp\", col(\"Timestamp\").cast(IntegerType()))\n",
    "dat = dat.withColumn(\"Date\", split(col(\"value\"), \" \")[2])\n",
    "dat = dat.withColumn(\"Date\", to_date(col(\"Date\"), \"yyyy.MM.dd\"))\n",
    "dat = dat.withColumn(\"Node\", split(col(\"value\"), \" \")[3])\n",
    "dat = dat.withColumn(\"Date and Time\", split(col(\"value\"), \" \")[4])\n",
    "dat = dat.withColumn(\"Date and Time\", to_timestamp(col(\"Date and Time\"), \"yyyy-MM-dd-HH.mm.ss.SSSSSS\"))\n",
    "dat = dat.withColumn(\"Node (repeated)\", split(col(\"value\"), \" \")[5])\n",
    "dat = dat.withColumn(\"Message Type\", split(col(\"value\"), \" \")[6])\n",
    "dat = dat.withColumn(\"System Component\", split(col(\"value\"), \" \")[7])\n",
    "dat = dat.withColumn(\"Level\", split(col(\"value\"), \" \")[8])\n",
    "dat = dat.withColumn(\"Message Content\", split(col(\"value\"), \" \", 10).getItem(9))\n",
    "dat = dat.drop(\"value\")"
   ]
  },
  {
   "cell_type": "markdown",
   "id": "f0f05baa",
   "metadata": {},
   "source": [
    "## Displaying The Transformed Raw Data"
   ]
  },
  {
   "cell_type": "code",
   "execution_count": 10,
   "id": "c3c4ed28",
   "metadata": {},
   "outputs": [
    {
     "name": "stdout",
     "output_type": "stream",
     "text": [
      "+------------------+----------+----------+-------------------+--------------------------+-------------------+------------+----------------+-----+----------------------------------------+\n",
      "|Alert message flag|Timestamp |Date      |Node               |Date and Time             |Node (repeated)    |Message Type|System Component|Level|Message Content                         |\n",
      "+------------------+----------+----------+-------------------+--------------------------+-------------------+------------+----------------+-----+----------------------------------------+\n",
      "|-                 |1117838570|2005-06-03|R02-M1-N0-C:J12-U11|2005-06-03 15:42:50.363779|R02-M1-N0-C:J12-U11|RAS         |KERNEL          |INFO |instruction cache parity error corrected|\n",
      "|-                 |1117838570|2005-06-03|R02-M1-N0-C:J12-U11|2005-06-03 15:42:50.527847|R02-M1-N0-C:J12-U11|RAS         |KERNEL          |INFO |instruction cache parity error corrected|\n",
      "+------------------+----------+----------+-------------------+--------------------------+-------------------+------------+----------------+-----+----------------------------------------+\n",
      "only showing top 2 rows\n",
      "\n"
     ]
    }
   ],
   "source": [
    "dat.show(n = 2, truncate=False)"
   ]
  },
  {
   "cell_type": "markdown",
   "id": "063a1d16",
   "metadata": {},
   "source": [
    "## Displaying The Final Schema"
   ]
  },
  {
   "cell_type": "code",
   "execution_count": 11,
   "id": "7587287a",
   "metadata": {},
   "outputs": [
    {
     "name": "stdout",
     "output_type": "stream",
     "text": [
      "root\n",
      " |-- Alert message flag: string (nullable = true)\n",
      " |-- Timestamp: integer (nullable = true)\n",
      " |-- Date: date (nullable = true)\n",
      " |-- Node: string (nullable = true)\n",
      " |-- Date and Time: timestamp (nullable = true)\n",
      " |-- Node (repeated): string (nullable = true)\n",
      " |-- Message Type: string (nullable = true)\n",
      " |-- System Component: string (nullable = true)\n",
      " |-- Level: string (nullable = true)\n",
      " |-- Message Content: string (nullable = true)\n",
      "\n"
     ]
    }
   ],
   "source": [
    "dat.printSchema()"
   ]
  }
 ],
 "metadata": {
  "kernelspec": {
   "display_name": "Python 3 (ipykernel)",
   "language": "python",
   "name": "python3"
  },
  "language_info": {
   "codemirror_mode": {
    "name": "ipython",
    "version": 3
   },
   "file_extension": ".py",
   "mimetype": "text/x-python",
   "name": "python",
   "nbconvert_exporter": "python",
   "pygments_lexer": "ipython3",
   "version": "3.11.4"
  }
 },
 "nbformat": 4,
 "nbformat_minor": 5
}
